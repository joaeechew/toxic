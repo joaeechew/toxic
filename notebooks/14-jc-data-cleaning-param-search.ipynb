{
 "cells": [
  {
   "cell_type": "markdown",
   "metadata": {},
   "source": [
    "Using a LSTM single model to text various cleaning steps and impact on score.\n",
    "\n",
    "Controls:\n",
    "- CNN single model\n",
    "- maxlen: 65\n",
    "- min occurance vocab: 5\n",
    "- glove.6B.100D\n",
    "- epochs: 2\n",
    "- cv: 3\n",
    "- max features 20000"
   ]
  },
  {
   "cell_type": "code",
   "execution_count": 1,
   "metadata": {},
   "outputs": [],
   "source": [
    "import os\n",
    "import logging"
   ]
  },
  {
   "cell_type": "code",
   "execution_count": 2,
   "metadata": {},
   "outputs": [],
   "source": [
    "dir_path = os.path.realpath('..')"
   ]
  },
  {
   "cell_type": "code",
   "execution_count": 3,
   "metadata": {},
   "outputs": [
    {
     "name": "stderr",
     "output_type": "stream",
     "text": [
      "Using TensorFlow backend.\n"
     ]
    }
   ],
   "source": [
    "# Import custom transformers\n",
    "\n",
    "path = 'src/features'\n",
    "full_path = os.path.join(dir_path, path)\n",
    "import sys\n",
    "sys.path.append(full_path)\n",
    "from transformers import TextCleaner, KerasProcesser"
   ]
  },
  {
   "cell_type": "markdown",
   "metadata": {},
   "source": [
    "## Import data"
   ]
  },
  {
   "cell_type": "code",
   "execution_count": 4,
   "metadata": {},
   "outputs": [],
   "source": [
    "import numpy as np\n",
    "import pandas as pd"
   ]
  },
  {
   "cell_type": "code",
   "execution_count": 5,
   "metadata": {},
   "outputs": [
    {
     "name": "stdout",
     "output_type": "stream",
     "text": [
      "Dataset has 95851 rows, 7 columns.\n"
     ]
    }
   ],
   "source": [
    "path = 'data/raw/train.csv'\n",
    "\n",
    "full_path = os.path.join(dir_path, path)\n",
    "df_train = pd.read_csv(full_path, header=0, index_col=0)\n",
    "print(\"Dataset has {} rows, {} columns.\".format(*df_train.shape))"
   ]
  },
  {
   "cell_type": "code",
   "execution_count": 6,
   "metadata": {},
   "outputs": [
    {
     "name": "stdout",
     "output_type": "stream",
     "text": [
      "Dataset has 226998 rows, 1 columns.\n"
     ]
    }
   ],
   "source": [
    "path = 'data/raw/test.csv'\n",
    "\n",
    "full_path = os.path.join(dir_path, path)\n",
    "df_test = pd.read_csv(full_path, header=0, index_col=0)\n",
    "print(\"Dataset has {} rows, {} columns.\".format(*df_test.shape))"
   ]
  },
  {
   "cell_type": "code",
   "execution_count": 7,
   "metadata": {},
   "outputs": [],
   "source": [
    "# fill NaN with string \"unknown\"\n",
    "df_train.fillna('unknown',inplace=True)\n",
    "df_test.fillna('unknown',inplace=True)"
   ]
  },
  {
   "cell_type": "markdown",
   "metadata": {},
   "source": [
    "## Pre-processing"
   ]
  },
  {
   "cell_type": "code",
   "execution_count": 8,
   "metadata": {},
   "outputs": [],
   "source": [
    "from sklearn.model_selection import train_test_split"
   ]
  },
  {
   "cell_type": "code",
   "execution_count": 9,
   "metadata": {},
   "outputs": [],
   "source": [
    "seed = 42\n",
    "np.random.seed(seed)\n",
    "test_size = 0.2\n",
    "target = ['toxic', 'severe_toxic', 'obscene', 'threat', 'insult', 'identity_hate']\n",
    "corpus = 'comment_text'\n",
    "\n",
    "X = df_train[corpus][:100]\n",
    "y = df_train[target][:100]\n",
    "df_test = df_test[:100]\n",
    "\n",
    "\n",
    "Xtrain, Xtest, ytrain, ytest = train_test_split(X, y, test_size=test_size, random_state=seed)"
   ]
  },
  {
   "cell_type": "code",
   "execution_count": 10,
   "metadata": {},
   "outputs": [],
   "source": [
    "max_features=20000\n",
    "max_length=65"
   ]
  },
  {
   "cell_type": "markdown",
   "metadata": {},
   "source": [
    "## Model fit"
   ]
  },
  {
   "cell_type": "code",
   "execution_count": 11,
   "metadata": {},
   "outputs": [],
   "source": [
    "from sklearn.model_selection import ParameterGrid\n",
    "from keras.wrappers.scikit_learn import KerasClassifier\n",
    "from sklearn.pipeline import Pipeline\n",
    "from keras.callbacks import CSVLogger\n",
    "from sklearn.metrics import log_loss"
   ]
  },
  {
   "cell_type": "code",
   "execution_count": 12,
   "metadata": {
    "code_folding": []
   },
   "outputs": [],
   "source": [
    "from keras.models import Sequential\n",
    "from keras.layers import Bidirectional, GlobalMaxPool1D\n",
    "from keras.layers import Dense, Input, LSTM, Embedding, Dropout, Activation\n",
    "\n",
    "# Function to create model, required for KerasClassifier\n",
    "def create_model(optimizer='adam', max_features=max_features, max_length=max_length):\n",
    "    model = Sequential()\n",
    "    model.add(Embedding(max_features, 100, input_length=max_length))\n",
    "    model.add(Bidirectional(LSTM(50, return_sequences=True, dropout=0.1, recurrent_dropout=0.1)))\n",
    "    model.add(GlobalMaxPool1D())\n",
    "    model.add(Dense(50, activation=\"relu\"))\n",
    "    model.add(Dropout(0.1))\n",
    "    model.add(Dense(6, activation='sigmoid'))  #multi-label (k-hot encoding)\n",
    "    # compile network\n",
    "    model.compile(loss='binary_crossentropy', optimizer='adam', metrics=['accuracy'])\n",
    "    return model"
   ]
  },
  {
   "cell_type": "code",
   "execution_count": 13,
   "metadata": {
    "code_folding": [
     0
    ]
   },
   "outputs": [],
   "source": [
    "def save_model(model, model_path):\n",
    "    # serialize model to JSON\n",
    "    model_json = model.to_json()\n",
    "    with open(model_path + \".json\", \"w\") as json_file:\n",
    "        json_file.write(model_json)\n",
    "    # serialize weights to HDF5\n",
    "    model.save_weights(model_path + \".h5\")\n",
    "    print(\"Saved model to disk\")"
   ]
  },
  {
   "cell_type": "code",
   "execution_count": 14,
   "metadata": {},
   "outputs": [],
   "source": [
    "from sklearn.base import BaseEstimator, TransformerMixin\n",
    "from nltk.tokenize import RegexpTokenizer\n",
    "from nltk.corpus import stopwords\n",
    "import nltk\n",
    "import re\n",
    "\n",
    "class TextCleaner(BaseEstimator, TransformerMixin):\n",
    "    def __init__(self, regex='\\S+', remove_digits=False, english_only=False, stop_words=None, lower=True, filters=None):\n",
    "        self.regex = regex\n",
    "        self.remove_digits = remove_digits\n",
    "        self.english_only = english_only\n",
    "        self.stop_words = stop_words\n",
    "        self.lower = lower\n",
    "        self.filters = filters\n",
    "        \n",
    "    def transform(self, X, *args):\n",
    "        tokenizer = RegexpTokenizer(self.regex)\n",
    "        result = []\n",
    "        for row in X:\n",
    "            tokens = tokenizer.tokenize(row)\n",
    "            if self.filters is not None:\n",
    "                tokens = [re.sub(self.filters, '', t) for t in tokens]\n",
    "            if self.lower:\n",
    "                tokens = [t.lower() for t in tokens]\n",
    "            if self.remove_digits:\n",
    "                tokens = [t for t in tokens if not t.isdigit()]\n",
    "            if self.english_only:\n",
    "                english_words = set(nltk.corpus.words.words())\n",
    "                tokens = [t for t in tokens if t in english_words]\n",
    "            if self.stop_words is not None:\n",
    "                tokens = [t for t in tokens if not t in self.stop_words]\n",
    "            tokens = ' '.join(tokens)\n",
    "            if tokens == '':\n",
    "            \ttokens = 'cleaned'\n",
    "            result.append(tokens)\n",
    "        return result\n",
    "    \n",
    "    def fit(self, *args):\n",
    "        return self"
   ]
  },
  {
   "cell_type": "code",
   "execution_count": 15,
   "metadata": {},
   "outputs": [],
   "source": [
    "from sklearn.base import BaseEstimator, TransformerMixin\n",
    "from keras.preprocessing.text import Tokenizer\n",
    "from keras.preprocessing.sequence import pad_sequences\n",
    "\n",
    "class KerasProcesser(BaseEstimator, TransformerMixin):\n",
    "    def __init__(self, num_words, maxlen):\n",
    "        self.num_words = num_words\n",
    "        self.maxlen = maxlen\n",
    "        \n",
    "    def transform(self, X, *args):\n",
    "        tokenizer = Tokenizer(self.num_words, lower=False, filters='')\n",
    "        tokenizer.fit_on_texts(X)\n",
    "        # vocab_size = len(tokenizer.word_index) + 1\n",
    "        result = tokenizer.texts_to_sequences(X)\n",
    "        result = pad_sequences(result, maxlen=self.maxlen, padding='post')\n",
    "        return result, tokenizer\n",
    "    \n",
    "    def fit(self, *args):\n",
    "        return self"
   ]
  },
  {
   "cell_type": "code",
   "execution_count": 16,
   "metadata": {},
   "outputs": [],
   "source": [
    "model = KerasClassifier(build_fn=create_model, epochs=2, verbose=1)"
   ]
  },
  {
   "cell_type": "code",
   "execution_count": 17,
   "metadata": {},
   "outputs": [],
   "source": [
    "p = Pipeline([\n",
    "    ('cleaner', TextCleaner()),\n",
    "    ('keraser', KerasProcesser(num_words=max_features, maxlen=max_length))#,\n",
    "])\n",
    "\n",
    "param_grid = {\"cleaner__regex\": ['\\S+'],\n",
    "              \"cleaner__remove_digits\": [False],\n",
    "              \"cleaner__english_only\": [False],\n",
    "              \"cleaner__stop_words\": [None],\n",
    "              \"cleaner__filters\": [r'[!\"#$%&()*+,-./:;<=>?@[\\\\]^_`{|}~\\t\\n]'],\n",
    "              \"cleaner__lower\": [True],\n",
    "              \"keraser__num_words\": [max_features],\n",
    "              \"keraser__maxlen\": [max_length]\n",
    "             }"
   ]
  },
  {
   "cell_type": "code",
   "execution_count": 18,
   "metadata": {
    "scrolled": false
   },
   "outputs": [
    {
     "name": "stdout",
     "output_type": "stream",
     "text": [
      "1. {'keraser__num_words': 20000, 'cleaner__regex': '\\\\S+', 'cleaner__stop_words': None, 'cleaner__lower': True, 'cleaner__english_only': False, 'keraser__maxlen': 65, 'cleaner__filters': '[!\"#$%&()*+,-./:;<=>?@[\\\\\\\\]^_`{|}~\\\\t\\\\n]', 'cleaner__remove_digits': False}\n",
      "Epoch 1/2\n",
      "80/80 [==============================] - 1s 16ms/step - loss: 0.6906 - acc: 0.6417\n",
      "Epoch 2/2\n",
      "80/80 [==============================] - 1s 8ms/step - loss: 0.6797 - acc: 0.8500\n",
      "20/20 [==============================] - 0s 8ms/step\n",
      "toxic log loss is 0.671384847164154 .\n"
     ]
    },
    {
     "ename": "ValueError",
     "evalue": "y_true contains only one label (0). Please provide the true labels explicitly through the labels argument.",
     "output_type": "error",
     "traceback": [
      "\u001b[0;31m---------------------------------------------------------------------------\u001b[0m",
      "\u001b[0;31mValueError\u001b[0m                                Traceback (most recent call last)",
      "\u001b[0;32m<timed exec>\u001b[0m in \u001b[0;36m<module>\u001b[0;34m()\u001b[0m\n",
      "\u001b[0;32m//anaconda/envs/toxic/lib/python3.5/site-packages/sklearn/metrics/classification.py\u001b[0m in \u001b[0;36mlog_loss\u001b[0;34m(y_true, y_pred, eps, normalize, sample_weight, labels)\u001b[0m\n\u001b[1;32m   1652\u001b[0m             raise ValueError('y_true contains only one label ({0}). Please '\n\u001b[1;32m   1653\u001b[0m                              \u001b[0;34m'provide the true labels explicitly through the '\u001b[0m\u001b[0;34m\u001b[0m\u001b[0m\n\u001b[0;32m-> 1654\u001b[0;31m                              'labels argument.'.format(lb.classes_[0]))\n\u001b[0m\u001b[1;32m   1655\u001b[0m         \u001b[0;32melse\u001b[0m\u001b[0;34m:\u001b[0m\u001b[0;34m\u001b[0m\u001b[0m\n\u001b[1;32m   1656\u001b[0m             raise ValueError('The labels array needs to contain at least two '\n",
      "\u001b[0;31mValueError\u001b[0m: y_true contains only one label (0). Please provide the true labels explicitly through the labels argument."
     ]
    }
   ],
   "source": [
    "%%time\n",
    "\n",
    "i = 1\n",
    "\n",
    "for g in ParameterGrid(param_grid):\n",
    "    model_name = 'grid_' + str(i)\n",
    "    logging.basicConfig(filename=model_name+'.log',level=logging.DEBUG)\n",
    "    csv_logger = CSVLogger(model_name+'.csv', append=True, separator=';')\n",
    "    print('{}. {}'.format(i, g))\n",
    "    \n",
    "    p.set_params(**g)\n",
    "    padded_train, t = p.transform(Xtrain)\n",
    "    encoded_test = t.texts_to_sequences(Xtest)\n",
    "    padded_test = pad_sequences(encoded_test, maxlen=max_length, padding='post')\n",
    "    model.fit(padded_train, ytrain, verbose=1, callbacks=[csv_logger])\n",
    "    \n",
    "    # evaluate model on test dataset\n",
    "    y_pred = model.model.predict(padded_test, verbose=1)\n",
    "    hold_out_preds = pd.DataFrame(y_pred, index=ytest.index, columns=target)\n",
    "    losses = []\n",
    "\n",
    "    for label in target:\n",
    "        loss = log_loss(ytest[label], hold_out_preds[label])\n",
    "        losses.append(loss)\n",
    "        print(\"{} log loss is {} .\".format(label, loss))\n",
    "\n",
    "    print(\"Combined log loss: {} .\".format(np.mean(losses)))\n",
    "    \n",
    "    # save the model\n",
    "    model_path = os.path.join(dir_path, 'models', model_name)\n",
    "    save_model(model.model, model_path)\n",
    "    \n",
    "    # submissions\n",
    "    encoded_submission = t.texts_to_sequences(df_test[corpus])\n",
    "    padded_submission = pad_sequences(encoded_submission, maxlen=max_length, padding='post')\n",
    "    y_submission = model.model.predict(padded_submission, verbose=1)\n",
    "    submission = pd.DataFrame(y_submission, index=df_test.index, columns=target)\n",
    "    path = 'data/submissions/' + model_name + '.csv'\n",
    "    full_path = os.path.join(dir_path, path)\n",
    "    submission.to_csv(full_path, header=True, index=True)\n",
    "    \n",
    "    i = i + 1"
   ]
  }
 ],
 "metadata": {
  "hide_input": false,
  "kernelspec": {
   "display_name": "Python 3",
   "language": "python",
   "name": "python3"
  },
  "language_info": {
   "codemirror_mode": {
    "name": "ipython",
    "version": 3
   },
   "file_extension": ".py",
   "mimetype": "text/x-python",
   "name": "python",
   "nbconvert_exporter": "python",
   "pygments_lexer": "ipython3",
   "version": "3.5.4"
  }
 },
 "nbformat": 4,
 "nbformat_minor": 2
}
