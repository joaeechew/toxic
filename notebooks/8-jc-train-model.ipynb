{
 "cells": [
  {
   "cell_type": "markdown",
   "metadata": {},
   "source": [
    "Notes:\n",
    "- Important parameters: kernel size, no. of feature maps\n",
    "- 1-max pooling generally outperforms otehr types of pooling\n",
    "- Dropout has little effect\n",
    "- Gridsearch across kernel size in the range 1-10\n",
    "- Search no. of filters from 100-600 and dropout of 0.0-0.5\n",
    "- Explore tanh, relu, linear activation functions"
   ]
  },
  {
   "cell_type": "markdown",
   "metadata": {},
   "source": [
    "## Import data"
   ]
  },
  {
   "cell_type": "code",
   "execution_count": 4,
   "metadata": {},
   "outputs": [],
   "source": [
    "import os\n",
    "import numpy as np\n",
    "import pandas as pd"
   ]
  },
  {
   "cell_type": "code",
   "execution_count": 5,
   "metadata": {},
   "outputs": [],
   "source": [
    "dir_path = os.path.realpath('..')"
   ]
  },
  {
   "cell_type": "code",
   "execution_count": 6,
   "metadata": {},
   "outputs": [
    {
     "name": "stdout",
     "output_type": "stream",
     "text": [
      "Dataset has 95851 rows, 7 columns.\n"
     ]
    }
   ],
   "source": [
    "path = 'data/processed/train.csv'\n",
    "\n",
    "full_path = os.path.join(dir_path, path)\n",
    "df = pd.read_csv(full_path, header=0, index_col=0)\n",
    "print(\"Dataset has {} rows, {} columns.\".format(*df.shape))"
   ]
  },
  {
   "cell_type": "markdown",
   "metadata": {},
   "source": [
    "## Train test split"
   ]
  },
  {
   "cell_type": "code",
   "execution_count": 7,
   "metadata": {},
   "outputs": [],
   "source": [
    "from sklearn.model_selection import train_test_split"
   ]
  },
  {
   "cell_type": "code",
   "execution_count": 8,
   "metadata": {},
   "outputs": [],
   "source": [
    "seed = 42\n",
    "test_size = 0.2\n",
    "target = ['toxic', 'severe_toxic', 'obscene', 'threat', 'insult', 'identity_hate']\n",
    "X = df.drop(target, axis=1)\n",
    "y = df[target]"
   ]
  },
  {
   "cell_type": "code",
   "execution_count": 9,
   "metadata": {},
   "outputs": [],
   "source": [
    "Xtrain, Xtest, ytrain, ytest = train_test_split(X, y, test_size=test_size, random_state=seed)"
   ]
  },
  {
   "cell_type": "markdown",
   "metadata": {},
   "source": [
    "## Pre-processing"
   ]
  },
  {
   "cell_type": "code",
   "execution_count": 10,
   "metadata": {},
   "outputs": [
    {
     "name": "stderr",
     "output_type": "stream",
     "text": [
      "Using TensorFlow backend.\n"
     ]
    }
   ],
   "source": [
    "from numpy import asarray\n",
    "from numpy import zeros\n",
    "from keras.preprocessing.text import Tokenizer\n",
    "from keras.preprocessing.sequence import pad_sequences\n",
    "from keras.models import Sequential\n",
    "from keras.layers import Dense\n",
    "from keras.layers import Flatten\n",
    "from keras.layers import Embedding"
   ]
  },
  {
   "cell_type": "code",
   "execution_count": 11,
   "metadata": {},
   "outputs": [],
   "source": [
    "corpus = 'comment_text'"
   ]
  },
  {
   "cell_type": "code",
   "execution_count": 12,
   "metadata": {},
   "outputs": [
    {
     "name": "stdout",
     "output_type": "stream",
     "text": [
      "CPU times: user 3.37 s, sys: 34.2 ms, total: 3.4 s\n",
      "Wall time: 3.43 s\n"
     ]
    }
   ],
   "source": [
    "%%time\n",
    "# prepare tokenizer\n",
    "t = Tokenizer()\n",
    "t.fit_on_texts(Xtrain[corpus].astype(str))\n",
    "vocab_size = len(t.word_index) + 1"
   ]
  },
  {
   "cell_type": "code",
   "execution_count": 13,
   "metadata": {},
   "outputs": [
    {
     "name": "stdout",
     "output_type": "stream",
     "text": [
      "CPU times: user 3 s, sys: 35.4 ms, total: 3.04 s\n",
      "Wall time: 3.05 s\n"
     ]
    }
   ],
   "source": [
    "%%time\n",
    "# integer encode the documents\n",
    "encoded_Xtrain = t.texts_to_sequences(Xtrain[corpus].astype(str))\n",
    "encoded_Xtest = t.texts_to_sequences(Xtest[corpus].astype(str))"
   ]
  },
  {
   "cell_type": "code",
   "execution_count": 14,
   "metadata": {},
   "outputs": [],
   "source": [
    "# pad documents to a max length of 4 words\n",
    "max_length = 4\n",
    "padded_train = pad_sequences(encoded_Xtrain, maxlen=max_length, padding='post')\n",
    "padded_test = pad_sequences(encoded_Xtest, maxlen=max_length, padding='post')"
   ]
  },
  {
   "cell_type": "code",
   "execution_count": 15,
   "metadata": {},
   "outputs": [
    {
     "name": "stdout",
     "output_type": "stream",
     "text": [
      "Loaded 400000 word vectors.\n",
      "CPU times: user 11.2 s, sys: 443 ms, total: 11.6 s\n",
      "Wall time: 11.8 s\n"
     ]
    }
   ],
   "source": [
    "%%time\n",
    "# load the whole embedding into memory\n",
    "embeddings_index = dict()\n",
    "f = open('/Users/joaeechew/dev/glove.6B/glove.6B.100d.txt', mode='rt', encoding='utf-8')\n",
    "for line in f:\n",
    "\tvalues = line.split()\n",
    "\tword = values[0]\n",
    "\tcoefs = asarray(values[1:], dtype='float32')\n",
    "\tembeddings_index[word] = coefs\n",
    "f.close()\n",
    "print('Loaded %s word vectors.' % len(embeddings_index))"
   ]
  },
  {
   "cell_type": "code",
   "execution_count": 16,
   "metadata": {},
   "outputs": [],
   "source": [
    "# create a weight matrix for words in training docs\n",
    "embedding_matrix = zeros((vocab_size, 100))\n",
    "for word, i in t.word_index.items():\n",
    "\tembedding_vector = embeddings_index.get(word)\n",
    "\tif embedding_vector is not None:\n",
    "\t\tembedding_matrix[i] = embedding_vector"
   ]
  },
  {
   "cell_type": "markdown",
   "metadata": {},
   "source": [
    "## Model fit"
   ]
  },
  {
   "cell_type": "code",
   "execution_count": 24,
   "metadata": {},
   "outputs": [],
   "source": [
    "# define model\n",
    "model = Sequential()\n",
    "e = Embedding(vocab_size, 100, weights=[embedding_matrix], input_length=4, trainable=False)\n",
    "model.add(e)\n",
    "model.add(Flatten())\n",
    "model.add(Dense(1, activation='sigmoid'))"
   ]
  },
  {
   "cell_type": "code",
   "execution_count": 25,
   "metadata": {},
   "outputs": [
    {
     "name": "stdout",
     "output_type": "stream",
     "text": [
      "_________________________________________________________________\n",
      "Layer (type)                 Output Shape              Param #   \n",
      "=================================================================\n",
      "embedding_1 (Embedding)      (None, 4, 100)            3660500   \n",
      "_________________________________________________________________\n",
      "flatten_1 (Flatten)          (None, 400)               0         \n",
      "_________________________________________________________________\n",
      "dense_1 (Dense)              (None, 1)                 401       \n",
      "=================================================================\n",
      "Total params: 3,660,901\n",
      "Trainable params: 401\n",
      "Non-trainable params: 3,660,500\n",
      "_________________________________________________________________\n"
     ]
    }
   ],
   "source": [
    "# compile the model\n",
    "model.compile(optimizer='adam', loss='binary_crossentropy', metrics=['acc'])\n",
    "# summarize the model\n",
    "model.summary()"
   ]
  },
  {
   "cell_type": "code",
   "execution_count": 27,
   "metadata": {},
   "outputs": [],
   "source": [
    "def save_model(model, model_path):\n",
    "    # serialize model to JSON\n",
    "    model_json = model.to_json()\n",
    "    with open(model_path + \".json\", \"w\") as json_file:\n",
    "        json_file.write(model_json)\n",
    "    # serialize weights to HDF5\n",
    "    model.save_weights(model_path + \".h5\")\n",
    "    print(\"Saved model to disk\")"
   ]
  },
  {
   "cell_type": "code",
   "execution_count": 31,
   "metadata": {
    "scrolled": false
   },
   "outputs": [
    {
     "name": "stdout",
     "output_type": "stream",
     "text": [
      "... Processing toxic\n",
      "Epoch 1/1\n",
      "76680/76680 [==============================] - 5s 69us/step - loss: 0.2662 - acc: 0.9062\n",
      "Saved model to disk\n",
      "... Processing severe_toxic\n",
      "Epoch 1/1\n",
      "76680/76680 [==============================] - 5s 69us/step - loss: 0.0541 - acc: 0.9883\n",
      "Saved model to disk\n",
      "... Processing obscene\n",
      "Epoch 1/1\n",
      "76680/76680 [==============================] - 5s 68us/step - loss: 0.1666 - acc: 0.9489\n",
      "Saved model to disk\n",
      "... Processing threat\n",
      "Epoch 1/1\n",
      "76680/76680 [==============================] - 5s 69us/step - loss: 0.0243 - acc: 0.9963\n",
      "Saved model to disk\n",
      "... Processing insult\n",
      "Epoch 1/1\n",
      "76680/76680 [==============================] - 5s 70us/step - loss: 0.1529 - acc: 0.9530\n",
      "Saved model to disk\n",
      "... Processing identity_hate\n",
      "Epoch 1/1\n",
      "76680/76680 [==============================] - 5s 70us/step - loss: 0.0434 - acc: 0.9906\n",
      "Saved model to disk\n",
      "CPU times: user 35.1 s, sys: 15.9 s, total: 51 s\n",
      "Wall time: 32.3 s\n"
     ]
    }
   ],
   "source": [
    "%%time\n",
    "# fit the model\n",
    "target = ['toxic', 'severe_toxic', 'obscene', 'threat', 'insult', 'identity_hate']\n",
    "\n",
    "for label in target:\n",
    "    print('... Processing {}'.format(label))\n",
    "    y = ytrain[label]\n",
    "    model_name = 'glove_model_' + label\n",
    "    \n",
    "    # train the model\n",
    "    model.fit(padded_train, y, epochs=1, verbose=1)\n",
    "    \n",
    "    # save the model\n",
    "    model_name = 'glove_model_' + label\n",
    "    model_path = os.path.join(dir_path, 'models', model_name)\n",
    "    save_model(model, model_path)"
   ]
  },
  {
   "cell_type": "markdown",
   "metadata": {},
   "source": [
    "## Evaluation"
   ]
  },
  {
   "cell_type": "code",
   "execution_count": 32,
   "metadata": {},
   "outputs": [],
   "source": [
    "from keras.models import model_from_json"
   ]
  },
  {
   "cell_type": "code",
   "execution_count": 36,
   "metadata": {},
   "outputs": [],
   "source": [
    "from sklearn.metrics import log_loss"
   ]
  },
  {
   "cell_type": "code",
   "execution_count": 33,
   "metadata": {},
   "outputs": [],
   "source": [
    "def load_model(model_path):\n",
    "    # load json and create model\n",
    "    json_file = open(model_path+'.json', 'r')\n",
    "    loaded_model_json = json_file.read()\n",
    "    json_file.close()\n",
    "    loaded_model = model_from_json(loaded_model_json)\n",
    "    # load weights into new model\n",
    "    loaded_model.load_weights(model_path+\".h5\")\n",
    "    print(\"Loaded model from disk\")\n",
    "    return loaded_model"
   ]
  },
  {
   "cell_type": "code",
   "execution_count": 61,
   "metadata": {},
   "outputs": [
    {
     "name": "stdout",
     "output_type": "stream",
     "text": [
      "... Processing toxic\n",
      "Loaded model from disk\n",
      "19171/19171 [==============================] - 9s 477us/step\n",
      "Log loss for toxic is 0.2454449793669313 .\n",
      "... Processing severe_toxic\n",
      "Loaded model from disk\n",
      "19171/19171 [==============================] - 9s 483us/step\n",
      "Log loss for severe_toxic is 0.04806497953532837 .\n",
      "... Processing obscene\n",
      "Loaded model from disk\n",
      "19171/19171 [==============================] - 9s 495us/step\n",
      "Log loss for obscene is 0.16479228807322147 .\n",
      "... Processing threat\n",
      "Loaded model from disk\n",
      "19171/19171 [==============================] - 9s 488us/step\n",
      "Log loss for threat is 0.01971722442305306 .\n",
      "... Processing insult\n",
      "Loaded model from disk\n",
      "19171/19171 [==============================] - 10s 533us/step\n",
      "Log loss for insult is 0.15244657976541817 .\n",
      "... Processing identity_hate\n",
      "Loaded model from disk\n",
      "19171/19171 [==============================] - 11s 562us/step\n",
      "Log loss for identity_hate is 0.03865194528939449 .\n",
      "Combined log loss is 0.11151966607555781 .\n",
      "CPU times: user 1min 11s, sys: 10.5 s, total: 1min 22s\n",
      "Wall time: 59.4 s\n"
     ]
    }
   ],
   "source": [
    "%%time\n",
    "\n",
    "target = ['toxic', 'severe_toxic', 'obscene', 'threat', 'insult', 'identity_hate']\n",
    "y_pred = pd.DataFrame(index=ytest.index, columns=target)\n",
    "scores =[]\n",
    "\n",
    "for label in target:\n",
    "    print('... Processing {}'.format(label))\n",
    "    \n",
    "    model_name = 'glove_model_' + label\n",
    "    model_path = os.path.join(dir_path, 'models', model_name)\n",
    "\n",
    "    # load the model\n",
    "    loaded_model = load_model(model_path)\n",
    "    \n",
    "    # evaluate model on test dataset\n",
    "    y_pred[label] = loaded_model.predict(padded_test, verbose=1, batch_size=1)\n",
    "    loss = log_loss(ytest[label], y_pred[label])\n",
    "    scores.append(loss)\n",
    "    \n",
    "    print(\"Log loss for {} is {} .\".format(label, loss))\n",
    "\n",
    "print(\"Combined log loss is {} .\".format(np.mean(scores)))"
   ]
  }
 ],
 "metadata": {
  "hide_input": false,
  "kernelspec": {
   "display_name": "Python 3",
   "language": "python",
   "name": "python3"
  },
  "language_info": {
   "codemirror_mode": {
    "name": "ipython",
    "version": 3
   },
   "file_extension": ".py",
   "mimetype": "text/x-python",
   "name": "python",
   "nbconvert_exporter": "python",
   "pygments_lexer": "ipython3",
   "version": "3.5.4"
  }
 },
 "nbformat": 4,
 "nbformat_minor": 2
}
